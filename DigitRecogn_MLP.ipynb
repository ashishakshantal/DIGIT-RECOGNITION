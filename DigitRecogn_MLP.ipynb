{
 "cells": [
  {
   "cell_type": "code",
   "execution_count": 4,
   "metadata": {},
   "outputs": [],
   "source": [
    "import numpy as np\n",
    "from numpy import genfromtxt\n",
    "from matplotlib import pyplot as plt\n",
    "%matplotlib inline\n",
    "train = genfromtxt('train_solved.csv', delimiter=',')\n",
    "test = genfromtxt('test_solved.csv', delimiter=',')"
   ]
  },
  {
   "cell_type": "code",
   "execution_count": 5,
   "metadata": {
    "collapsed": true
   },
   "outputs": [],
   "source": [
    "##seperating the input data and labels\n",
    "x_train = train[:,0:784]\n",
    "y_train = train[:,784]"
   ]
  },
  {
   "cell_type": "code",
   "execution_count": 6,
   "metadata": {
    "collapsed": true
   },
   "outputs": [],
   "source": [
    "x_test = test[:,0:784]\n",
    "y_test = test[:,784]"
   ]
  },
  {
   "cell_type": "code",
   "execution_count": 7,
   "metadata": {},
   "outputs": [
    {
     "name": "stderr",
     "output_type": "stream",
     "text": [
      "Using TensorFlow backend.\n"
     ]
    }
   ],
   "source": [
    "from keras.utils.np_utils import to_categorical\n",
    "y_train = to_categorical(y_train)\n",
    "y_test = to_categorical(y_test)"
   ]
  },
  {
   "cell_type": "code",
   "execution_count": 8,
   "metadata": {
    "collapsed": true
   },
   "outputs": [],
   "source": [
    "#LOAD REQUIRED MODULES\n",
    "from keras.models import Sequential\n",
    "from keras.layers import Dense"
   ]
  },
  {
   "cell_type": "code",
   "execution_count": 17,
   "metadata": {},
   "outputs": [
    {
     "name": "stdout",
     "output_type": "stream",
     "text": [
      "_________________________________________________________________\n",
      "Layer (type)                 Output Shape              Param #   \n",
      "=================================================================\n",
      "dense_9 (Dense)              (None, 50)                39250     \n",
      "_________________________________________________________________\n",
      "dense_10 (Dense)             (None, 10)                510       \n",
      "=================================================================\n",
      "Total params: 39,760\n",
      "Trainable params: 39,760\n",
      "Non-trainable params: 0\n",
      "_________________________________________________________________\n",
      "Wall time: 15.6 ms\n"
     ]
    }
   ],
   "source": [
    "model = Sequential()\n",
    "model.add(Dense(50, input_dim = 784, activation = 'relu'))\n",
    "model.add(Dense(10, activation = 'softmax'))\n",
    "model.compile(loss = 'categorical_crossentropy', optimizer='adam', metrics= ['accuracy'])\n",
    "## In case the model has more than two categories (which is the case in MNIST Activity) one needs to use \n",
    "## model.compile(loss='categorical_crossentropy', ...)\n",
    "## categorical_crossentropy is an extension of binary crossentropy for more categories\n",
    "## catagorical class entropy, formula = -log(correctclassprediction)\n",
    "%time model.summary()"
   ]
  },
  {
   "cell_type": "code",
   "execution_count": 18,
   "metadata": {},
   "outputs": [
    {
     "name": "stdout",
     "output_type": "stream",
     "text": [
      "Train on 54000 samples, validate on 6000 samples\n",
      "Epoch 1/50\n",
      "54000/54000 [==============================] - 2s - loss: 6.2463 - acc: 0.6069 - val_loss: 5.8107 - val_acc: 0.6377\n",
      "Epoch 2/50\n",
      "54000/54000 [==============================] - 2s - loss: 5.5517 - acc: 0.6527 - val_loss: 4.4040 - val_acc: 0.7222\n",
      "Epoch 3/50\n",
      "54000/54000 [==============================] - 2s - loss: 4.0973 - acc: 0.7426 - val_loss: 3.9868 - val_acc: 0.7497\n",
      "Epoch 4/50\n",
      "54000/54000 [==============================] - 2s - loss: 3.7444 - acc: 0.7647 - val_loss: 2.6671 - val_acc: 0.8303\n",
      "Epoch 5/50\n",
      "54000/54000 [==============================] - 2s - loss: 2.6737 - acc: 0.8307 - val_loss: 2.4891 - val_acc: 0.8430\n",
      "Epoch 6/50\n",
      "54000/54000 [==============================] - 2s - loss: 2.5503 - acc: 0.8386 - val_loss: 2.3745 - val_acc: 0.8500\n",
      "Epoch 7/50\n",
      "54000/54000 [==============================] - 2s - loss: 2.5379 - acc: 0.8402 - val_loss: 2.3035 - val_acc: 0.8550\n",
      "Epoch 8/50\n",
      "54000/54000 [==============================] - 2s - loss: 2.4150 - acc: 0.8481 - val_loss: 2.3124 - val_acc: 0.8547\n",
      "Epoch 9/50\n",
      "54000/54000 [==============================] - 2s - loss: 2.3759 - acc: 0.8510 - val_loss: 2.3640 - val_acc: 0.8517\n",
      "Epoch 10/50\n",
      "54000/54000 [==============================] - 2s - loss: 2.2761 - acc: 0.8567 - val_loss: 1.4991 - val_acc: 0.9043\n",
      "Epoch 11/50\n",
      "54000/54000 [==============================] - 2s - loss: 1.2557 - acc: 0.9196 - val_loss: 1.2279 - val_acc: 0.9220\n",
      "Epoch 12/50\n",
      "54000/54000 [==============================] - 2s - loss: 1.0624 - acc: 0.9318 - val_loss: 1.0417 - val_acc: 0.9332\n",
      "Epoch 13/50\n",
      "54000/54000 [==============================] - 2s - loss: 0.9775 - acc: 0.9374 - val_loss: 1.0589 - val_acc: 0.9330\n",
      "Epoch 14/50\n",
      "54000/54000 [==============================] - 2s - loss: 0.9549 - acc: 0.9389 - val_loss: 0.9871 - val_acc: 0.9372\n",
      "Epoch 15/50\n",
      "54000/54000 [==============================] - 2s - loss: 0.9508 - acc: 0.9394 - val_loss: 0.9876 - val_acc: 0.9367\n",
      "Epoch 16/50\n",
      "54000/54000 [==============================] - 2s - loss: 0.9902 - acc: 0.9370 - val_loss: 1.2113 - val_acc: 0.9232\n",
      "Epoch 17/50\n",
      "54000/54000 [==============================] - 3s - loss: 0.9140 - acc: 0.9416 - val_loss: 1.0802 - val_acc: 0.9312\n",
      "Epoch 18/50\n",
      "54000/54000 [==============================] - 2s - loss: 0.9275 - acc: 0.9411 - val_loss: 1.0008 - val_acc: 0.9367\n",
      "Epoch 19/50\n",
      "54000/54000 [==============================] - 2s - loss: 0.8987 - acc: 0.9429 - val_loss: 1.1011 - val_acc: 0.9305\n",
      "Epoch 20/50\n",
      "54000/54000 [==============================] - 2s - loss: 0.9475 - acc: 0.9400 - val_loss: 0.8175 - val_acc: 0.9477\n",
      "Epoch 21/50\n",
      "54000/54000 [==============================] - 2s - loss: 0.8713 - acc: 0.9446 - val_loss: 1.0322 - val_acc: 0.9352\n",
      "Epoch 22/50\n",
      "54000/54000 [==============================] - 2s - loss: 0.8639 - acc: 0.9452 - val_loss: 1.1610 - val_acc: 0.9262\n",
      "Epoch 23/50\n",
      "54000/54000 [==============================] - 2s - loss: 0.8980 - acc: 0.9431 - val_loss: 0.9110 - val_acc: 0.9423\n",
      "Epoch 24/50\n",
      "54000/54000 [==============================] - 2s - loss: 0.8478 - acc: 0.9461 - val_loss: 0.9180 - val_acc: 0.9415\n",
      "Epoch 25/50\n",
      "54000/54000 [==============================] - 2s - loss: 0.8939 - acc: 0.9433 - val_loss: 0.8684 - val_acc: 0.9452\n",
      "Epoch 26/50\n",
      "54000/54000 [==============================] - 2s - loss: 0.8645 - acc: 0.9450 - val_loss: 0.8457 - val_acc: 0.9467\n",
      "Epoch 27/50\n",
      "54000/54000 [==============================] - 3s - loss: 0.7978 - acc: 0.9495 - val_loss: 0.7976 - val_acc: 0.9490\n",
      "Epoch 28/50\n",
      "54000/54000 [==============================] - 2s - loss: 0.8050 - acc: 0.9490 - val_loss: 0.8025 - val_acc: 0.9488\n",
      "Epoch 29/50\n",
      "54000/54000 [==============================] - 2s - loss: 0.8013 - acc: 0.9494 - val_loss: 0.8697 - val_acc: 0.9445\n",
      "Epoch 30/50\n",
      "54000/54000 [==============================] - 2s - loss: 0.8645 - acc: 0.9452 - val_loss: 0.8492 - val_acc: 0.9462\n",
      "Epoch 31/50\n",
      "54000/54000 [==============================] - 2s - loss: 0.7895 - acc: 0.9501 - val_loss: 0.8689 - val_acc: 0.9447\n",
      "Epoch 32/50\n",
      "54000/54000 [==============================] - 3s - loss: 0.7740 - acc: 0.9511 - val_loss: 0.7912 - val_acc: 0.9502\n",
      "Epoch 33/50\n",
      "54000/54000 [==============================] - 2s - loss: 0.7943 - acc: 0.9500 - val_loss: 1.0517 - val_acc: 0.9332\n",
      "Epoch 34/50\n",
      "54000/54000 [==============================] - 2s - loss: 0.7993 - acc: 0.9495 - val_loss: 0.7510 - val_acc: 0.9525\n",
      "Epoch 35/50\n",
      "54000/54000 [==============================] - 3s - loss: 0.7738 - acc: 0.9513 - val_loss: 0.8028 - val_acc: 0.9493\n",
      "Epoch 36/50\n",
      "54000/54000 [==============================] - 2s - loss: 0.8595 - acc: 0.9456 - val_loss: 0.7691 - val_acc: 0.9520\n",
      "Epoch 37/50\n",
      "54000/54000 [==============================] - 3s - loss: 0.8501 - acc: 0.9464 - val_loss: 0.8250 - val_acc: 0.9480\n",
      "Epoch 38/50\n",
      "54000/54000 [==============================] - 3s - loss: 0.7783 - acc: 0.9509 - val_loss: 0.8067 - val_acc: 0.9495\n",
      "Epoch 39/50\n",
      "54000/54000 [==============================] - 2s - loss: 0.7375 - acc: 0.9533 - val_loss: 0.8002 - val_acc: 0.9497\n",
      "Epoch 40/50\n",
      "54000/54000 [==============================] - 2s - loss: 0.7588 - acc: 0.9522 - val_loss: 0.8488 - val_acc: 0.9458\n",
      "Epoch 41/50\n",
      "54000/54000 [==============================] - 2s - loss: 0.7079 - acc: 0.9553 - val_loss: 0.8474 - val_acc: 0.9463\n",
      "Epoch 42/50\n",
      "54000/54000 [==============================] - 2s - loss: 0.7122 - acc: 0.9551 - val_loss: 0.7040 - val_acc: 0.9550\n",
      "Epoch 43/50\n",
      "54000/54000 [==============================] - 3s - loss: 0.6965 - acc: 0.9559 - val_loss: 0.7042 - val_acc: 0.9555\n",
      "Epoch 44/50\n",
      "54000/54000 [==============================] - 3s - loss: 0.6929 - acc: 0.9564 - val_loss: 0.7403 - val_acc: 0.9533\n",
      "Epoch 45/50\n",
      "54000/54000 [==============================] - 2s - loss: 0.6841 - acc: 0.9569 - val_loss: 0.8906 - val_acc: 0.9440\n",
      "Epoch 46/50\n",
      "54000/54000 [==============================] - 2s - loss: 0.6903 - acc: 0.9565 - val_loss: 0.7392 - val_acc: 0.9533\n",
      "Epoch 47/50\n",
      "54000/54000 [==============================] - 2s - loss: 0.6975 - acc: 0.9561 - val_loss: 0.8129 - val_acc: 0.9487\n",
      "Epoch 48/50\n",
      "54000/54000 [==============================] - 2s - loss: 0.7216 - acc: 0.9545 - val_loss: 0.8344 - val_acc: 0.9478\n",
      "Epoch 49/50\n",
      "54000/54000 [==============================] - 3s - loss: 0.7472 - acc: 0.9531 - val_loss: 0.7634 - val_acc: 0.9522\n",
      "Epoch 50/50\n",
      "54000/54000 [==============================] - 3s - loss: 0.6716 - acc: 0.9579 - val_loss: 0.7688 - val_acc: 0.9517\n"
     ]
    },
    {
     "data": {
      "text/plain": [
       "<keras.callbacks.History at 0x154a4da0>"
      ]
     },
     "execution_count": 18,
     "metadata": {},
     "output_type": "execute_result"
    }
   ],
   "source": [
    "model.fit(x_train, y_train, epochs=50, batch_size=64, validation_split=0.1)"
   ]
  },
  {
   "cell_type": "code",
   "execution_count": 109,
   "metadata": {},
   "outputs": [],
   "source": [
    "from keras.optimizers import Adam\n",
    "opt = Adam(lr=0.1)\n",
    "\n",
    "from keras.callbacks import ReduceLROnPlateau, EarlyStopping\n",
    "lrr = ReduceLROnPlateau(monitor='loss', min_lr=1e-3, factor=0.9, epsilon=0.001, patience=10, verbose=0)\n",
    "early_stop = EarlyStopping(monitor='loss', min_delta=1e-2, patience=10, verbose=0)\n",
    "model = Sequential()\n",
    "model.add(Dense(90, input_dim = 784, kernel_initializer='RandomNormal', activation = 'relu'))\n",
    "model.add(Dense(10, kernel_initializer='RandomUniform', activation = 'softmax'))\n",
    "model.compile(loss='categorical_crossentropy', optimizer='RMSprop',metrics=['accuracy'])"
   ]
  },
  {
   "cell_type": "code",
   "execution_count": 110,
   "metadata": {},
   "outputs": [
    {
     "name": "stdout",
     "output_type": "stream",
     "text": [
      "Train on 54000 samples, validate on 6000 samples\n",
      "Epoch 1/3\n",
      "54000/54000 [==============================] - 4s - loss: 1.1422 - acc: 0.8728 - val_loss: 0.3337 - val_acc: 0.9358\n",
      "Epoch 2/3\n",
      "54000/54000 [==============================] - 3s - loss: 0.3146 - acc: 0.9443 - val_loss: 0.2913 - val_acc: 0.9538\n",
      "Epoch 3/3\n",
      "54000/54000 [==============================] - 3s - loss: 0.2648 - acc: 0.9569 - val_loss: 0.2934 - val_acc: 0.9575\n"
     ]
    },
    {
     "data": {
      "text/plain": [
       "<keras.callbacks.History at 0x35048dd8>"
      ]
     },
     "execution_count": 110,
     "metadata": {},
     "output_type": "execute_result"
    }
   ],
   "source": [
    "model.fit(x_train, y_train, epochs=3, batch_size=64, validation_split=0.1)"
   ]
  },
  {
   "cell_type": "code",
   "execution_count": 111,
   "metadata": {},
   "outputs": [
    {
     "name": "stdout",
     "output_type": "stream",
     "text": [
      " 9152/10000 [==========================>...] - ETA: 0s"
     ]
    },
    {
     "data": {
      "text/plain": [
       "[0.25179376996429637, 0.96099999999999997]"
      ]
     },
     "execution_count": 111,
     "metadata": {},
     "output_type": "execute_result"
    }
   ],
   "source": [
    "model.evaluate(x_test, y_test)"
   ]
  },
  {
   "cell_type": "code",
   "execution_count": null,
   "metadata": {
    "collapsed": true
   },
   "outputs": [],
   "source": []
  }
 ],
 "metadata": {
  "kernelspec": {
   "display_name": "Python 3",
   "language": "python",
   "name": "python3"
  },
  "language_info": {
   "codemirror_mode": {
    "name": "ipython",
    "version": 3
   },
   "file_extension": ".py",
   "mimetype": "text/x-python",
   "name": "python",
   "nbconvert_exporter": "python",
   "pygments_lexer": "ipython3",
   "version": "3.6.1"
  }
 },
 "nbformat": 4,
 "nbformat_minor": 2
}
